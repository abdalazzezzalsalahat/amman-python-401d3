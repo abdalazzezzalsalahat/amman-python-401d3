{
 "metadata": {
  "language_info": {
   "codemirror_mode": {
    "name": "ipython",
    "version": 3
   },
   "file_extension": ".py",
   "mimetype": "text/x-python",
   "name": "python",
   "nbconvert_exporter": "python",
   "pygments_lexer": "ipython3",
   "version": "3.9.2"
  },
  "orig_nbformat": 2,
  "kernelspec": {
   "name": "python392jvsc74a57bd0c8811c7f045d613c2917ff83103bb158b2de1e9c46125fcbaca3ebfc2637a02b",
   "display_name": "Python 3.9.2 64-bit ('.venv': venv)"
  }
 },
 "nbformat": 4,
 "nbformat_minor": 2,
 "cells": [
  {
   "cell_type": "code",
   "execution_count": 2,
   "metadata": {},
   "outputs": [
    {
     "output_type": "execute_result",
     "data": {
      "text/plain": [
       "        Rank                                              Name Platform  \\\n",
       "0          1                                        Wii Sports      Wii   \n",
       "1          2                                 Super Mario Bros.      NES   \n",
       "2          3                                    Mario Kart Wii      Wii   \n",
       "3          4                                 Wii Sports Resort      Wii   \n",
       "4          5                          Pokemon Red/Pokemon Blue       GB   \n",
       "...      ...                                               ...      ...   \n",
       "16593  16596                Woody Woodpecker in Crazy Castle 5      GBA   \n",
       "16594  16597                     Men in Black II: Alien Escape       GC   \n",
       "16595  16598  SCORE International Baja 1000: The Official Game      PS2   \n",
       "16596  16599                                        Know How 2       DS   \n",
       "16597  16600                                  Spirits & Spells      GBA   \n",
       "\n",
       "         Year         Genre   Publisher  NA_Sales  EU_Sales  JP_Sales  \\\n",
       "0      2006.0        Sports    Nintendo     41.49     29.02      3.77   \n",
       "1      1985.0      Platform    Nintendo     29.08      3.58      6.81   \n",
       "2      2008.0        Racing    Nintendo     15.85     12.88      3.79   \n",
       "3      2009.0        Sports    Nintendo     15.75     11.01      3.28   \n",
       "4      1996.0  Role-Playing    Nintendo     11.27      8.89     10.22   \n",
       "...       ...           ...         ...       ...       ...       ...   \n",
       "16593  2002.0      Platform       Kemco      0.01      0.00      0.00   \n",
       "16594  2003.0       Shooter  Infogrames      0.01      0.00      0.00   \n",
       "16595  2008.0        Racing  Activision      0.00      0.00      0.00   \n",
       "16596  2010.0        Puzzle    7G//AMES      0.00      0.01      0.00   \n",
       "16597  2003.0      Platform     Wanadoo      0.01      0.00      0.00   \n",
       "\n",
       "       Other_Sales  Global_Sales  \n",
       "0             8.46         82.74  \n",
       "1             0.77         40.24  \n",
       "2             3.31         35.82  \n",
       "3             2.96         33.00  \n",
       "4             1.00         31.37  \n",
       "...            ...           ...  \n",
       "16593         0.00          0.01  \n",
       "16594         0.00          0.01  \n",
       "16595         0.00          0.01  \n",
       "16596         0.00          0.01  \n",
       "16597         0.00          0.01  \n",
       "\n",
       "[16598 rows x 11 columns]"
      ],
      "text/html": "<div>\n<style scoped>\n    .dataframe tbody tr th:only-of-type {\n        vertical-align: middle;\n    }\n\n    .dataframe tbody tr th {\n        vertical-align: top;\n    }\n\n    .dataframe thead th {\n        text-align: right;\n    }\n</style>\n<table border=\"1\" class=\"dataframe\">\n  <thead>\n    <tr style=\"text-align: right;\">\n      <th></th>\n      <th>Rank</th>\n      <th>Name</th>\n      <th>Platform</th>\n      <th>Year</th>\n      <th>Genre</th>\n      <th>Publisher</th>\n      <th>NA_Sales</th>\n      <th>EU_Sales</th>\n      <th>JP_Sales</th>\n      <th>Other_Sales</th>\n      <th>Global_Sales</th>\n    </tr>\n  </thead>\n  <tbody>\n    <tr>\n      <th>0</th>\n      <td>1</td>\n      <td>Wii Sports</td>\n      <td>Wii</td>\n      <td>2006.0</td>\n      <td>Sports</td>\n      <td>Nintendo</td>\n      <td>41.49</td>\n      <td>29.02</td>\n      <td>3.77</td>\n      <td>8.46</td>\n      <td>82.74</td>\n    </tr>\n    <tr>\n      <th>1</th>\n      <td>2</td>\n      <td>Super Mario Bros.</td>\n      <td>NES</td>\n      <td>1985.0</td>\n      <td>Platform</td>\n      <td>Nintendo</td>\n      <td>29.08</td>\n      <td>3.58</td>\n      <td>6.81</td>\n      <td>0.77</td>\n      <td>40.24</td>\n    </tr>\n    <tr>\n      <th>2</th>\n      <td>3</td>\n      <td>Mario Kart Wii</td>\n      <td>Wii</td>\n      <td>2008.0</td>\n      <td>Racing</td>\n      <td>Nintendo</td>\n      <td>15.85</td>\n      <td>12.88</td>\n      <td>3.79</td>\n      <td>3.31</td>\n      <td>35.82</td>\n    </tr>\n    <tr>\n      <th>3</th>\n      <td>4</td>\n      <td>Wii Sports Resort</td>\n      <td>Wii</td>\n      <td>2009.0</td>\n      <td>Sports</td>\n      <td>Nintendo</td>\n      <td>15.75</td>\n      <td>11.01</td>\n      <td>3.28</td>\n      <td>2.96</td>\n      <td>33.00</td>\n    </tr>\n    <tr>\n      <th>4</th>\n      <td>5</td>\n      <td>Pokemon Red/Pokemon Blue</td>\n      <td>GB</td>\n      <td>1996.0</td>\n      <td>Role-Playing</td>\n      <td>Nintendo</td>\n      <td>11.27</td>\n      <td>8.89</td>\n      <td>10.22</td>\n      <td>1.00</td>\n      <td>31.37</td>\n    </tr>\n    <tr>\n      <th>...</th>\n      <td>...</td>\n      <td>...</td>\n      <td>...</td>\n      <td>...</td>\n      <td>...</td>\n      <td>...</td>\n      <td>...</td>\n      <td>...</td>\n      <td>...</td>\n      <td>...</td>\n      <td>...</td>\n    </tr>\n    <tr>\n      <th>16593</th>\n      <td>16596</td>\n      <td>Woody Woodpecker in Crazy Castle 5</td>\n      <td>GBA</td>\n      <td>2002.0</td>\n      <td>Platform</td>\n      <td>Kemco</td>\n      <td>0.01</td>\n      <td>0.00</td>\n      <td>0.00</td>\n      <td>0.00</td>\n      <td>0.01</td>\n    </tr>\n    <tr>\n      <th>16594</th>\n      <td>16597</td>\n      <td>Men in Black II: Alien Escape</td>\n      <td>GC</td>\n      <td>2003.0</td>\n      <td>Shooter</td>\n      <td>Infogrames</td>\n      <td>0.01</td>\n      <td>0.00</td>\n      <td>0.00</td>\n      <td>0.00</td>\n      <td>0.01</td>\n    </tr>\n    <tr>\n      <th>16595</th>\n      <td>16598</td>\n      <td>SCORE International Baja 1000: The Official Game</td>\n      <td>PS2</td>\n      <td>2008.0</td>\n      <td>Racing</td>\n      <td>Activision</td>\n      <td>0.00</td>\n      <td>0.00</td>\n      <td>0.00</td>\n      <td>0.00</td>\n      <td>0.01</td>\n    </tr>\n    <tr>\n      <th>16596</th>\n      <td>16599</td>\n      <td>Know How 2</td>\n      <td>DS</td>\n      <td>2010.0</td>\n      <td>Puzzle</td>\n      <td>7G//AMES</td>\n      <td>0.00</td>\n      <td>0.01</td>\n      <td>0.00</td>\n      <td>0.00</td>\n      <td>0.01</td>\n    </tr>\n    <tr>\n      <th>16597</th>\n      <td>16600</td>\n      <td>Spirits &amp; Spells</td>\n      <td>GBA</td>\n      <td>2003.0</td>\n      <td>Platform</td>\n      <td>Wanadoo</td>\n      <td>0.01</td>\n      <td>0.00</td>\n      <td>0.00</td>\n      <td>0.00</td>\n      <td>0.01</td>\n    </tr>\n  </tbody>\n</table>\n<p>16598 rows × 11 columns</p>\n</div>"
     },
     "metadata": {},
     "execution_count": 2
    }
   ],
   "source": [
    "import pandas as pd\n",
    "\n",
    "df = pd.read_csv('./vgsales.csv')\n",
    "df\n"
   ]
  },
  {
   "cell_type": "code",
   "execution_count": 3,
   "metadata": {},
   "outputs": [
    {
     "output_type": "stream",
     "name": "stdout",
     "text": [
      "<class 'pandas.core.frame.DataFrame'>\nRangeIndex: 16598 entries, 0 to 16597\nData columns (total 11 columns):\n #   Column        Non-Null Count  Dtype  \n---  ------        --------------  -----  \n 0   Rank          16598 non-null  int64  \n 1   Name          16598 non-null  object \n 2   Platform      16598 non-null  object \n 3   Year          16327 non-null  float64\n 4   Genre         16598 non-null  object \n 5   Publisher     16540 non-null  object \n 6   NA_Sales      16598 non-null  float64\n 7   EU_Sales      16598 non-null  float64\n 8   JP_Sales      16598 non-null  float64\n 9   Other_Sales   16598 non-null  float64\n 10  Global_Sales  16598 non-null  float64\ndtypes: float64(6), int64(1), object(4)\nmemory usage: 1.4+ MB\n"
     ]
    }
   ],
   "source": [
    "df.info()"
   ]
  },
  {
   "source": [
    "Top 10 rows"
   ],
   "cell_type": "markdown",
   "metadata": {}
  },
  {
   "cell_type": "code",
   "execution_count": 4,
   "metadata": {},
   "outputs": [
    {
     "output_type": "execute_result",
     "data": {
      "text/plain": [
       "   Rank                       Name Platform    Year         Genre Publisher  \\\n",
       "0     1                 Wii Sports      Wii  2006.0        Sports  Nintendo   \n",
       "1     2          Super Mario Bros.      NES  1985.0      Platform  Nintendo   \n",
       "2     3             Mario Kart Wii      Wii  2008.0        Racing  Nintendo   \n",
       "3     4          Wii Sports Resort      Wii  2009.0        Sports  Nintendo   \n",
       "4     5   Pokemon Red/Pokemon Blue       GB  1996.0  Role-Playing  Nintendo   \n",
       "5     6                     Tetris       GB  1989.0        Puzzle  Nintendo   \n",
       "6     7      New Super Mario Bros.       DS  2006.0      Platform  Nintendo   \n",
       "7     8                   Wii Play      Wii  2006.0          Misc  Nintendo   \n",
       "8     9  New Super Mario Bros. Wii      Wii  2009.0      Platform  Nintendo   \n",
       "9    10                  Duck Hunt      NES  1984.0       Shooter  Nintendo   \n",
       "\n",
       "   NA_Sales  EU_Sales  JP_Sales  Other_Sales  Global_Sales  \n",
       "0     41.49     29.02      3.77         8.46         82.74  \n",
       "1     29.08      3.58      6.81         0.77         40.24  \n",
       "2     15.85     12.88      3.79         3.31         35.82  \n",
       "3     15.75     11.01      3.28         2.96         33.00  \n",
       "4     11.27      8.89     10.22         1.00         31.37  \n",
       "5     23.20      2.26      4.22         0.58         30.26  \n",
       "6     11.38      9.23      6.50         2.90         30.01  \n",
       "7     14.03      9.20      2.93         2.85         29.02  \n",
       "8     14.59      7.06      4.70         2.26         28.62  \n",
       "9     26.93      0.63      0.28         0.47         28.31  "
      ],
      "text/html": "<div>\n<style scoped>\n    .dataframe tbody tr th:only-of-type {\n        vertical-align: middle;\n    }\n\n    .dataframe tbody tr th {\n        vertical-align: top;\n    }\n\n    .dataframe thead th {\n        text-align: right;\n    }\n</style>\n<table border=\"1\" class=\"dataframe\">\n  <thead>\n    <tr style=\"text-align: right;\">\n      <th></th>\n      <th>Rank</th>\n      <th>Name</th>\n      <th>Platform</th>\n      <th>Year</th>\n      <th>Genre</th>\n      <th>Publisher</th>\n      <th>NA_Sales</th>\n      <th>EU_Sales</th>\n      <th>JP_Sales</th>\n      <th>Other_Sales</th>\n      <th>Global_Sales</th>\n    </tr>\n  </thead>\n  <tbody>\n    <tr>\n      <th>0</th>\n      <td>1</td>\n      <td>Wii Sports</td>\n      <td>Wii</td>\n      <td>2006.0</td>\n      <td>Sports</td>\n      <td>Nintendo</td>\n      <td>41.49</td>\n      <td>29.02</td>\n      <td>3.77</td>\n      <td>8.46</td>\n      <td>82.74</td>\n    </tr>\n    <tr>\n      <th>1</th>\n      <td>2</td>\n      <td>Super Mario Bros.</td>\n      <td>NES</td>\n      <td>1985.0</td>\n      <td>Platform</td>\n      <td>Nintendo</td>\n      <td>29.08</td>\n      <td>3.58</td>\n      <td>6.81</td>\n      <td>0.77</td>\n      <td>40.24</td>\n    </tr>\n    <tr>\n      <th>2</th>\n      <td>3</td>\n      <td>Mario Kart Wii</td>\n      <td>Wii</td>\n      <td>2008.0</td>\n      <td>Racing</td>\n      <td>Nintendo</td>\n      <td>15.85</td>\n      <td>12.88</td>\n      <td>3.79</td>\n      <td>3.31</td>\n      <td>35.82</td>\n    </tr>\n    <tr>\n      <th>3</th>\n      <td>4</td>\n      <td>Wii Sports Resort</td>\n      <td>Wii</td>\n      <td>2009.0</td>\n      <td>Sports</td>\n      <td>Nintendo</td>\n      <td>15.75</td>\n      <td>11.01</td>\n      <td>3.28</td>\n      <td>2.96</td>\n      <td>33.00</td>\n    </tr>\n    <tr>\n      <th>4</th>\n      <td>5</td>\n      <td>Pokemon Red/Pokemon Blue</td>\n      <td>GB</td>\n      <td>1996.0</td>\n      <td>Role-Playing</td>\n      <td>Nintendo</td>\n      <td>11.27</td>\n      <td>8.89</td>\n      <td>10.22</td>\n      <td>1.00</td>\n      <td>31.37</td>\n    </tr>\n    <tr>\n      <th>5</th>\n      <td>6</td>\n      <td>Tetris</td>\n      <td>GB</td>\n      <td>1989.0</td>\n      <td>Puzzle</td>\n      <td>Nintendo</td>\n      <td>23.20</td>\n      <td>2.26</td>\n      <td>4.22</td>\n      <td>0.58</td>\n      <td>30.26</td>\n    </tr>\n    <tr>\n      <th>6</th>\n      <td>7</td>\n      <td>New Super Mario Bros.</td>\n      <td>DS</td>\n      <td>2006.0</td>\n      <td>Platform</td>\n      <td>Nintendo</td>\n      <td>11.38</td>\n      <td>9.23</td>\n      <td>6.50</td>\n      <td>2.90</td>\n      <td>30.01</td>\n    </tr>\n    <tr>\n      <th>7</th>\n      <td>8</td>\n      <td>Wii Play</td>\n      <td>Wii</td>\n      <td>2006.0</td>\n      <td>Misc</td>\n      <td>Nintendo</td>\n      <td>14.03</td>\n      <td>9.20</td>\n      <td>2.93</td>\n      <td>2.85</td>\n      <td>29.02</td>\n    </tr>\n    <tr>\n      <th>8</th>\n      <td>9</td>\n      <td>New Super Mario Bros. Wii</td>\n      <td>Wii</td>\n      <td>2009.0</td>\n      <td>Platform</td>\n      <td>Nintendo</td>\n      <td>14.59</td>\n      <td>7.06</td>\n      <td>4.70</td>\n      <td>2.26</td>\n      <td>28.62</td>\n    </tr>\n    <tr>\n      <th>9</th>\n      <td>10</td>\n      <td>Duck Hunt</td>\n      <td>NES</td>\n      <td>1984.0</td>\n      <td>Shooter</td>\n      <td>Nintendo</td>\n      <td>26.93</td>\n      <td>0.63</td>\n      <td>0.28</td>\n      <td>0.47</td>\n      <td>28.31</td>\n    </tr>\n  </tbody>\n</table>\n</div>"
     },
     "metadata": {},
     "execution_count": 4
    }
   ],
   "source": [
    "df.head(10)"
   ]
  },
  {
   "source": [
    "Last 15 rows"
   ],
   "cell_type": "markdown",
   "metadata": {}
  },
  {
   "cell_type": "code",
   "execution_count": 5,
   "metadata": {},
   "outputs": [
    {
     "output_type": "execute_result",
     "data": {
      "text/plain": [
       "        Rank                                               Name Platform  \\\n",
       "16583  16586                                     Carmageddon 64      N64   \n",
       "16584  16587                                   Bust-A-Move 3000       GC   \n",
       "16585  16588                                             Breach       PC   \n",
       "16586  16589                     Secret Files 2: Puritas Cordis       DS   \n",
       "16587  16590                           Mezase!! Tsuri Master DS       DS   \n",
       "16588  16591                                   Mega Brain Boost       DS   \n",
       "16589  16592  Chou Ezaru wa Akai Hana: Koi wa Tsuki ni Shiru...      PSV   \n",
       "16590  16593  Eiyuu Densetsu: Sora no Kiseki Material Collec...      PSP   \n",
       "16591  16594                                Myst IV: Revelation       PC   \n",
       "16592  16595                                           Plushees       DS   \n",
       "16593  16596                 Woody Woodpecker in Crazy Castle 5      GBA   \n",
       "16594  16597                      Men in Black II: Alien Escape       GC   \n",
       "16595  16598   SCORE International Baja 1000: The Official Game      PS2   \n",
       "16596  16599                                         Know How 2       DS   \n",
       "16597  16600                                   Spirits & Spells      GBA   \n",
       "\n",
       "         Year         Genre              Publisher  NA_Sales  EU_Sales  \\\n",
       "16583  1999.0        Action     Virgin Interactive      0.01      0.00   \n",
       "16584  2003.0        Puzzle                Ubisoft      0.01      0.00   \n",
       "16585  2011.0       Shooter              Destineer      0.01      0.00   \n",
       "16586  2009.0     Adventure            Deep Silver      0.00      0.01   \n",
       "16587  2009.0        Sports            Hudson Soft      0.00      0.00   \n",
       "16588  2008.0        Puzzle  Majesco Entertainment      0.01      0.00   \n",
       "16589  2016.0        Action        dramatic create      0.00      0.00   \n",
       "16590  2007.0  Role-Playing     Falcom Corporation      0.00      0.00   \n",
       "16591  2004.0     Adventure                Ubisoft      0.01      0.00   \n",
       "16592  2008.0    Simulation              Destineer      0.01      0.00   \n",
       "16593  2002.0      Platform                  Kemco      0.01      0.00   \n",
       "16594  2003.0       Shooter             Infogrames      0.01      0.00   \n",
       "16595  2008.0        Racing             Activision      0.00      0.00   \n",
       "16596  2010.0        Puzzle               7G//AMES      0.00      0.01   \n",
       "16597  2003.0      Platform                Wanadoo      0.01      0.00   \n",
       "\n",
       "       JP_Sales  Other_Sales  Global_Sales  \n",
       "16583      0.00          0.0          0.01  \n",
       "16584      0.00          0.0          0.01  \n",
       "16585      0.00          0.0          0.01  \n",
       "16586      0.00          0.0          0.01  \n",
       "16587      0.01          0.0          0.01  \n",
       "16588      0.00          0.0          0.01  \n",
       "16589      0.01          0.0          0.01  \n",
       "16590      0.01          0.0          0.01  \n",
       "16591      0.00          0.0          0.01  \n",
       "16592      0.00          0.0          0.01  \n",
       "16593      0.00          0.0          0.01  \n",
       "16594      0.00          0.0          0.01  \n",
       "16595      0.00          0.0          0.01  \n",
       "16596      0.00          0.0          0.01  \n",
       "16597      0.00          0.0          0.01  "
      ],
      "text/html": "<div>\n<style scoped>\n    .dataframe tbody tr th:only-of-type {\n        vertical-align: middle;\n    }\n\n    .dataframe tbody tr th {\n        vertical-align: top;\n    }\n\n    .dataframe thead th {\n        text-align: right;\n    }\n</style>\n<table border=\"1\" class=\"dataframe\">\n  <thead>\n    <tr style=\"text-align: right;\">\n      <th></th>\n      <th>Rank</th>\n      <th>Name</th>\n      <th>Platform</th>\n      <th>Year</th>\n      <th>Genre</th>\n      <th>Publisher</th>\n      <th>NA_Sales</th>\n      <th>EU_Sales</th>\n      <th>JP_Sales</th>\n      <th>Other_Sales</th>\n      <th>Global_Sales</th>\n    </tr>\n  </thead>\n  <tbody>\n    <tr>\n      <th>16583</th>\n      <td>16586</td>\n      <td>Carmageddon 64</td>\n      <td>N64</td>\n      <td>1999.0</td>\n      <td>Action</td>\n      <td>Virgin Interactive</td>\n      <td>0.01</td>\n      <td>0.00</td>\n      <td>0.00</td>\n      <td>0.0</td>\n      <td>0.01</td>\n    </tr>\n    <tr>\n      <th>16584</th>\n      <td>16587</td>\n      <td>Bust-A-Move 3000</td>\n      <td>GC</td>\n      <td>2003.0</td>\n      <td>Puzzle</td>\n      <td>Ubisoft</td>\n      <td>0.01</td>\n      <td>0.00</td>\n      <td>0.00</td>\n      <td>0.0</td>\n      <td>0.01</td>\n    </tr>\n    <tr>\n      <th>16585</th>\n      <td>16588</td>\n      <td>Breach</td>\n      <td>PC</td>\n      <td>2011.0</td>\n      <td>Shooter</td>\n      <td>Destineer</td>\n      <td>0.01</td>\n      <td>0.00</td>\n      <td>0.00</td>\n      <td>0.0</td>\n      <td>0.01</td>\n    </tr>\n    <tr>\n      <th>16586</th>\n      <td>16589</td>\n      <td>Secret Files 2: Puritas Cordis</td>\n      <td>DS</td>\n      <td>2009.0</td>\n      <td>Adventure</td>\n      <td>Deep Silver</td>\n      <td>0.00</td>\n      <td>0.01</td>\n      <td>0.00</td>\n      <td>0.0</td>\n      <td>0.01</td>\n    </tr>\n    <tr>\n      <th>16587</th>\n      <td>16590</td>\n      <td>Mezase!! Tsuri Master DS</td>\n      <td>DS</td>\n      <td>2009.0</td>\n      <td>Sports</td>\n      <td>Hudson Soft</td>\n      <td>0.00</td>\n      <td>0.00</td>\n      <td>0.01</td>\n      <td>0.0</td>\n      <td>0.01</td>\n    </tr>\n    <tr>\n      <th>16588</th>\n      <td>16591</td>\n      <td>Mega Brain Boost</td>\n      <td>DS</td>\n      <td>2008.0</td>\n      <td>Puzzle</td>\n      <td>Majesco Entertainment</td>\n      <td>0.01</td>\n      <td>0.00</td>\n      <td>0.00</td>\n      <td>0.0</td>\n      <td>0.01</td>\n    </tr>\n    <tr>\n      <th>16589</th>\n      <td>16592</td>\n      <td>Chou Ezaru wa Akai Hana: Koi wa Tsuki ni Shiru...</td>\n      <td>PSV</td>\n      <td>2016.0</td>\n      <td>Action</td>\n      <td>dramatic create</td>\n      <td>0.00</td>\n      <td>0.00</td>\n      <td>0.01</td>\n      <td>0.0</td>\n      <td>0.01</td>\n    </tr>\n    <tr>\n      <th>16590</th>\n      <td>16593</td>\n      <td>Eiyuu Densetsu: Sora no Kiseki Material Collec...</td>\n      <td>PSP</td>\n      <td>2007.0</td>\n      <td>Role-Playing</td>\n      <td>Falcom Corporation</td>\n      <td>0.00</td>\n      <td>0.00</td>\n      <td>0.01</td>\n      <td>0.0</td>\n      <td>0.01</td>\n    </tr>\n    <tr>\n      <th>16591</th>\n      <td>16594</td>\n      <td>Myst IV: Revelation</td>\n      <td>PC</td>\n      <td>2004.0</td>\n      <td>Adventure</td>\n      <td>Ubisoft</td>\n      <td>0.01</td>\n      <td>0.00</td>\n      <td>0.00</td>\n      <td>0.0</td>\n      <td>0.01</td>\n    </tr>\n    <tr>\n      <th>16592</th>\n      <td>16595</td>\n      <td>Plushees</td>\n      <td>DS</td>\n      <td>2008.0</td>\n      <td>Simulation</td>\n      <td>Destineer</td>\n      <td>0.01</td>\n      <td>0.00</td>\n      <td>0.00</td>\n      <td>0.0</td>\n      <td>0.01</td>\n    </tr>\n    <tr>\n      <th>16593</th>\n      <td>16596</td>\n      <td>Woody Woodpecker in Crazy Castle 5</td>\n      <td>GBA</td>\n      <td>2002.0</td>\n      <td>Platform</td>\n      <td>Kemco</td>\n      <td>0.01</td>\n      <td>0.00</td>\n      <td>0.00</td>\n      <td>0.0</td>\n      <td>0.01</td>\n    </tr>\n    <tr>\n      <th>16594</th>\n      <td>16597</td>\n      <td>Men in Black II: Alien Escape</td>\n      <td>GC</td>\n      <td>2003.0</td>\n      <td>Shooter</td>\n      <td>Infogrames</td>\n      <td>0.01</td>\n      <td>0.00</td>\n      <td>0.00</td>\n      <td>0.0</td>\n      <td>0.01</td>\n    </tr>\n    <tr>\n      <th>16595</th>\n      <td>16598</td>\n      <td>SCORE International Baja 1000: The Official Game</td>\n      <td>PS2</td>\n      <td>2008.0</td>\n      <td>Racing</td>\n      <td>Activision</td>\n      <td>0.00</td>\n      <td>0.00</td>\n      <td>0.00</td>\n      <td>0.0</td>\n      <td>0.01</td>\n    </tr>\n    <tr>\n      <th>16596</th>\n      <td>16599</td>\n      <td>Know How 2</td>\n      <td>DS</td>\n      <td>2010.0</td>\n      <td>Puzzle</td>\n      <td>7G//AMES</td>\n      <td>0.00</td>\n      <td>0.01</td>\n      <td>0.00</td>\n      <td>0.0</td>\n      <td>0.01</td>\n    </tr>\n    <tr>\n      <th>16597</th>\n      <td>16600</td>\n      <td>Spirits &amp; Spells</td>\n      <td>GBA</td>\n      <td>2003.0</td>\n      <td>Platform</td>\n      <td>Wanadoo</td>\n      <td>0.01</td>\n      <td>0.00</td>\n      <td>0.00</td>\n      <td>0.0</td>\n      <td>0.01</td>\n    </tr>\n  </tbody>\n</table>\n</div>"
     },
     "metadata": {},
     "execution_count": 5
    }
   ],
   "source": [
    "df.tail(15)"
   ]
  },
  {
   "source": [
    "### What are the best ranking games"
   ],
   "cell_type": "markdown",
   "metadata": {}
  },
  {
   "cell_type": "code",
   "execution_count": 6,
   "metadata": {},
   "outputs": [],
   "source": [
    "# 10 Highest ranking games, showing name, platform, Rank, year\n",
    "top_ten_df = df[df[\"Rank\"] <= 10][['Name', 'Platform', 'Year','Rank']]"
   ]
  },
  {
   "source": [
    "Which year occurs most frquently?"
   ],
   "cell_type": "markdown",
   "metadata": {}
  },
  {
   "cell_type": "code",
   "execution_count": 7,
   "metadata": {},
   "outputs": [
    {
     "output_type": "execute_result",
     "data": {
      "text/plain": [
       "2006.0    3\n",
       "2009.0    2\n",
       "1984.0    1\n",
       "2008.0    1\n",
       "1996.0    1\n",
       "1985.0    1\n",
       "1989.0    1\n",
       "Name: Year, dtype: int64"
      ]
     },
     "metadata": {},
     "execution_count": 7
    }
   ],
   "source": [
    "# Show year which occurs mode frequently\n",
    "top_ten_df['Year'].mode()\n",
    "\n",
    "# show how many times each year occured\n",
    "top_ten_df['Year'].value_counts()"
   ]
  },
  {
   "cell_type": "code",
   "execution_count": 8,
   "metadata": {},
   "outputs": [
    {
     "output_type": "stream",
     "name": "stdout",
     "text": [
      "<class 'pandas.core.frame.DataFrame'>\nRangeIndex: 16598 entries, 0 to 16597\nData columns (total 11 columns):\n #   Column        Non-Null Count  Dtype  \n---  ------        --------------  -----  \n 0   Rank          16598 non-null  int64  \n 1   Name          16598 non-null  object \n 2   Platform      16598 non-null  object \n 3   Year          16327 non-null  float64\n 4   Genre         16598 non-null  object \n 5   Publisher     16540 non-null  object \n 6   NA_Sales      16598 non-null  float64\n 7   EU_Sales      16598 non-null  float64\n 8   JP_Sales      16598 non-null  float64\n 9   Other_Sales   16598 non-null  float64\n 10  Global_Sales  16598 non-null  float64\ndtypes: float64(6), int64(1), object(4)\nmemory usage: 1.4+ MB\n"
     ]
    }
   ],
   "source": [
    "# Average sales of PC games between the year 2000 and 2010\n",
    "df.info()\n"
   ]
  },
  {
   "cell_type": "code",
   "execution_count": 9,
   "metadata": {},
   "outputs": [
    {
     "output_type": "execute_result",
     "data": {
      "text/plain": [
       "0.20552631578947372"
      ]
     },
     "metadata": {},
     "execution_count": 9
    }
   ],
   "source": [
    "# Average global sales # aggregate\n",
    "# of PC games # filter\n",
    "# between the year 2000 and 2010 # filter\n",
    "\n",
    "# one line\n",
    "# df[df['Year'].between(2000, 2010)]\n",
    "\n",
    "# What does bitwise mean and what does it imply\n",
    "df[(df['Year'] >= 2000) & (df['Year'] <= 2010) & (df['Platform'] == 'PC')]['Global_Sales'].mean()\n"
   ]
  },
  {
   "cell_type": "code",
   "execution_count": 10,
   "metadata": {},
   "outputs": [
    {
     "output_type": "execute_result",
     "data": {
      "text/plain": [
       "    Rank                            Name Platform    Year       Genre  \\\n",
       "70    71  Call of Duty 4: Modern Warfare     X360  2007.0     Shooter   \n",
       "71    72             Donkey Kong Country     SNES  1994.0    Platform   \n",
       "72    73                       Minecraft     X360  2013.0        Misc   \n",
       "73    74       Animal Crossing: New Leaf      3DS  2012.0  Simulation   \n",
       "74    75                  Mario Party DS       DS  2007.0        Misc   \n",
       "\n",
       "                 Publisher  NA_Sales  EU_Sales  JP_Sales  Other_Sales  \\\n",
       "70              Activision      5.91      2.38      0.13         0.90   \n",
       "71                Nintendo      4.36      1.71      3.00         0.23   \n",
       "72  Microsoft Game Studios      5.58      2.83      0.02         0.77   \n",
       "73                Nintendo      2.01      2.32      4.36         0.41   \n",
       "74                Nintendo      4.46      1.88      1.98         0.70   \n",
       "\n",
       "    Global_Sales  \n",
       "70          9.32  \n",
       "71          9.30  \n",
       "72          9.20  \n",
       "73          9.09  \n",
       "74          9.02  "
      ],
      "text/html": "<div>\n<style scoped>\n    .dataframe tbody tr th:only-of-type {\n        vertical-align: middle;\n    }\n\n    .dataframe tbody tr th {\n        vertical-align: top;\n    }\n\n    .dataframe thead th {\n        text-align: right;\n    }\n</style>\n<table border=\"1\" class=\"dataframe\">\n  <thead>\n    <tr style=\"text-align: right;\">\n      <th></th>\n      <th>Rank</th>\n      <th>Name</th>\n      <th>Platform</th>\n      <th>Year</th>\n      <th>Genre</th>\n      <th>Publisher</th>\n      <th>NA_Sales</th>\n      <th>EU_Sales</th>\n      <th>JP_Sales</th>\n      <th>Other_Sales</th>\n      <th>Global_Sales</th>\n    </tr>\n  </thead>\n  <tbody>\n    <tr>\n      <th>70</th>\n      <td>71</td>\n      <td>Call of Duty 4: Modern Warfare</td>\n      <td>X360</td>\n      <td>2007.0</td>\n      <td>Shooter</td>\n      <td>Activision</td>\n      <td>5.91</td>\n      <td>2.38</td>\n      <td>0.13</td>\n      <td>0.90</td>\n      <td>9.32</td>\n    </tr>\n    <tr>\n      <th>71</th>\n      <td>72</td>\n      <td>Donkey Kong Country</td>\n      <td>SNES</td>\n      <td>1994.0</td>\n      <td>Platform</td>\n      <td>Nintendo</td>\n      <td>4.36</td>\n      <td>1.71</td>\n      <td>3.00</td>\n      <td>0.23</td>\n      <td>9.30</td>\n    </tr>\n    <tr>\n      <th>72</th>\n      <td>73</td>\n      <td>Minecraft</td>\n      <td>X360</td>\n      <td>2013.0</td>\n      <td>Misc</td>\n      <td>Microsoft Game Studios</td>\n      <td>5.58</td>\n      <td>2.83</td>\n      <td>0.02</td>\n      <td>0.77</td>\n      <td>9.20</td>\n    </tr>\n    <tr>\n      <th>73</th>\n      <td>74</td>\n      <td>Animal Crossing: New Leaf</td>\n      <td>3DS</td>\n      <td>2012.0</td>\n      <td>Simulation</td>\n      <td>Nintendo</td>\n      <td>2.01</td>\n      <td>2.32</td>\n      <td>4.36</td>\n      <td>0.41</td>\n      <td>9.09</td>\n    </tr>\n    <tr>\n      <th>74</th>\n      <td>75</td>\n      <td>Mario Party DS</td>\n      <td>DS</td>\n      <td>2007.0</td>\n      <td>Misc</td>\n      <td>Nintendo</td>\n      <td>4.46</td>\n      <td>1.88</td>\n      <td>1.98</td>\n      <td>0.70</td>\n      <td>9.02</td>\n    </tr>\n  </tbody>\n</table>\n</div>"
     },
     "metadata": {},
     "execution_count": 10
    }
   ],
   "source": [
    "df[70:75]\n"
   ]
  },
  {
   "cell_type": "code",
   "execution_count": 11,
   "metadata": {},
   "outputs": [
    {
     "output_type": "execute_result",
     "data": {
      "text/plain": [
       "        Rank                                              Name Platform  \\\n",
       "0          1                                        Wii Sports      Wii   \n",
       "1          1                                 Super Mario Bros.      NES   \n",
       "2          3                                    Mario Kart Wii      Wii   \n",
       "3          4                                 Wii Sports Resort      Wii   \n",
       "4          5                          Pokemon Red/Pokemon Blue       GB   \n",
       "...      ...                                               ...      ...   \n",
       "16593  16596                Woody Woodpecker in Crazy Castle 5      GBA   \n",
       "16594  16597                     Men in Black II: Alien Escape       GC   \n",
       "16595  16598  SCORE International Baja 1000: The Official Game      PS2   \n",
       "16596  16599                                        Know How 2       DS   \n",
       "16597  16600                                  Spirits & Spells      GBA   \n",
       "\n",
       "         Year         Genre   Publisher  NA_Sales  EU_Sales  JP_Sales  \\\n",
       "0      2006.0        Sports    Nintendo     41.49     29.02      3.77   \n",
       "1      1985.0      Platform    Nintendo     29.08      3.58      6.81   \n",
       "2      2008.0        Racing    Nintendo     15.85     12.88      3.79   \n",
       "3      2009.0        Sports    Nintendo     15.75     11.01      3.28   \n",
       "4      1996.0  Role-Playing    Nintendo     11.27      8.89     10.22   \n",
       "...       ...           ...         ...       ...       ...       ...   \n",
       "16593  2002.0      Platform       Kemco      0.01      0.00      0.00   \n",
       "16594  2003.0       Shooter  Infogrames      0.01      0.00      0.00   \n",
       "16595  2008.0        Racing  Activision      0.00      0.00      0.00   \n",
       "16596  2010.0        Puzzle    7G//AMES      0.00      0.01      0.00   \n",
       "16597  2003.0      Platform     Wanadoo      0.01      0.00      0.00   \n",
       "\n",
       "       Other_Sales  Global_Sales  \n",
       "0             8.46         82.74  \n",
       "1             0.77         40.24  \n",
       "2             3.31         35.82  \n",
       "3             2.96         33.00  \n",
       "4             1.00         31.37  \n",
       "...            ...           ...  \n",
       "16593         0.00          0.01  \n",
       "16594         0.00          0.01  \n",
       "16595         0.00          0.01  \n",
       "16596         0.00          0.01  \n",
       "16597         0.00          0.01  \n",
       "\n",
       "[16598 rows x 11 columns]"
      ],
      "text/html": "<div>\n<style scoped>\n    .dataframe tbody tr th:only-of-type {\n        vertical-align: middle;\n    }\n\n    .dataframe tbody tr th {\n        vertical-align: top;\n    }\n\n    .dataframe thead th {\n        text-align: right;\n    }\n</style>\n<table border=\"1\" class=\"dataframe\">\n  <thead>\n    <tr style=\"text-align: right;\">\n      <th></th>\n      <th>Rank</th>\n      <th>Name</th>\n      <th>Platform</th>\n      <th>Year</th>\n      <th>Genre</th>\n      <th>Publisher</th>\n      <th>NA_Sales</th>\n      <th>EU_Sales</th>\n      <th>JP_Sales</th>\n      <th>Other_Sales</th>\n      <th>Global_Sales</th>\n    </tr>\n  </thead>\n  <tbody>\n    <tr>\n      <th>0</th>\n      <td>1</td>\n      <td>Wii Sports</td>\n      <td>Wii</td>\n      <td>2006.0</td>\n      <td>Sports</td>\n      <td>Nintendo</td>\n      <td>41.49</td>\n      <td>29.02</td>\n      <td>3.77</td>\n      <td>8.46</td>\n      <td>82.74</td>\n    </tr>\n    <tr>\n      <th>1</th>\n      <td>1</td>\n      <td>Super Mario Bros.</td>\n      <td>NES</td>\n      <td>1985.0</td>\n      <td>Platform</td>\n      <td>Nintendo</td>\n      <td>29.08</td>\n      <td>3.58</td>\n      <td>6.81</td>\n      <td>0.77</td>\n      <td>40.24</td>\n    </tr>\n    <tr>\n      <th>2</th>\n      <td>3</td>\n      <td>Mario Kart Wii</td>\n      <td>Wii</td>\n      <td>2008.0</td>\n      <td>Racing</td>\n      <td>Nintendo</td>\n      <td>15.85</td>\n      <td>12.88</td>\n      <td>3.79</td>\n      <td>3.31</td>\n      <td>35.82</td>\n    </tr>\n    <tr>\n      <th>3</th>\n      <td>4</td>\n      <td>Wii Sports Resort</td>\n      <td>Wii</td>\n      <td>2009.0</td>\n      <td>Sports</td>\n      <td>Nintendo</td>\n      <td>15.75</td>\n      <td>11.01</td>\n      <td>3.28</td>\n      <td>2.96</td>\n      <td>33.00</td>\n    </tr>\n    <tr>\n      <th>4</th>\n      <td>5</td>\n      <td>Pokemon Red/Pokemon Blue</td>\n      <td>GB</td>\n      <td>1996.0</td>\n      <td>Role-Playing</td>\n      <td>Nintendo</td>\n      <td>11.27</td>\n      <td>8.89</td>\n      <td>10.22</td>\n      <td>1.00</td>\n      <td>31.37</td>\n    </tr>\n    <tr>\n      <th>...</th>\n      <td>...</td>\n      <td>...</td>\n      <td>...</td>\n      <td>...</td>\n      <td>...</td>\n      <td>...</td>\n      <td>...</td>\n      <td>...</td>\n      <td>...</td>\n      <td>...</td>\n      <td>...</td>\n    </tr>\n    <tr>\n      <th>16593</th>\n      <td>16596</td>\n      <td>Woody Woodpecker in Crazy Castle 5</td>\n      <td>GBA</td>\n      <td>2002.0</td>\n      <td>Platform</td>\n      <td>Kemco</td>\n      <td>0.01</td>\n      <td>0.00</td>\n      <td>0.00</td>\n      <td>0.00</td>\n      <td>0.01</td>\n    </tr>\n    <tr>\n      <th>16594</th>\n      <td>16597</td>\n      <td>Men in Black II: Alien Escape</td>\n      <td>GC</td>\n      <td>2003.0</td>\n      <td>Shooter</td>\n      <td>Infogrames</td>\n      <td>0.01</td>\n      <td>0.00</td>\n      <td>0.00</td>\n      <td>0.00</td>\n      <td>0.01</td>\n    </tr>\n    <tr>\n      <th>16595</th>\n      <td>16598</td>\n      <td>SCORE International Baja 1000: The Official Game</td>\n      <td>PS2</td>\n      <td>2008.0</td>\n      <td>Racing</td>\n      <td>Activision</td>\n      <td>0.00</td>\n      <td>0.00</td>\n      <td>0.00</td>\n      <td>0.00</td>\n      <td>0.01</td>\n    </tr>\n    <tr>\n      <th>16596</th>\n      <td>16599</td>\n      <td>Know How 2</td>\n      <td>DS</td>\n      <td>2010.0</td>\n      <td>Puzzle</td>\n      <td>7G//AMES</td>\n      <td>0.00</td>\n      <td>0.01</td>\n      <td>0.00</td>\n      <td>0.00</td>\n      <td>0.01</td>\n    </tr>\n    <tr>\n      <th>16597</th>\n      <td>16600</td>\n      <td>Spirits &amp; Spells</td>\n      <td>GBA</td>\n      <td>2003.0</td>\n      <td>Platform</td>\n      <td>Wanadoo</td>\n      <td>0.01</td>\n      <td>0.00</td>\n      <td>0.00</td>\n      <td>0.00</td>\n      <td>0.01</td>\n    </tr>\n  </tbody>\n</table>\n<p>16598 rows × 11 columns</p>\n</div>"
     },
     "metadata": {},
     "execution_count": 11
    }
   ],
   "source": [
    "video_df = pd.read_csv('./vgsales_bad.csv')\n",
    "video_df"
   ]
  },
  {
   "cell_type": "code",
   "execution_count": 12,
   "metadata": {},
   "outputs": [
    {
     "output_type": "execute_result",
     "data": {
      "text/plain": [
       "        Rank                                  Name Platform    Year  \\\n",
       "0          1                            Wii Sports      Wii  2006.0   \n",
       "1          1                     Super Mario Bros.      NES  1985.0   \n",
       "2          3                        Mario Kart Wii      Wii  2008.0   \n",
       "3          4                     Wii Sports Resort      Wii  2009.0   \n",
       "4          5              Pokemon Red/Pokemon Blue       GB  1996.0   \n",
       "...      ...                                   ...      ...     ...   \n",
       "16186  16189                           BattleForge       PC  2009.0   \n",
       "16187  16190                        Jewel Quest II       PC  2007.0   \n",
       "16188  16191                      Toro to Morimori      PS3  2009.0   \n",
       "16189  16192  Sonic & All-Stars Racing Transformed       PC  2013.0   \n",
       "16597  16600                      Spirits & Spells      GBA  2003.0   \n",
       "\n",
       "              Genre                    Publisher  NA_Sales  EU_Sales  \\\n",
       "0            Sports                     Nintendo     41.49     29.02   \n",
       "1          Platform                     Nintendo     29.08      3.58   \n",
       "2            Racing                     Nintendo     15.85     12.88   \n",
       "3            Sports                     Nintendo     15.75     11.01   \n",
       "4      Role-Playing                     Nintendo     11.27      8.89   \n",
       "...             ...                          ...       ...       ...   \n",
       "16186      Strategy              Electronic Arts      0.00      0.01   \n",
       "16187        Puzzle                    Avanquest      0.00      0.01   \n",
       "16188          Misc  Sony Computer Entertainment      0.00      0.00   \n",
       "16189        Racing                         Sega      0.00      0.01   \n",
       "16597      Platform                      Wanadoo      0.01      0.00   \n",
       "\n",
       "       JP_Sales  Other_Sales  Global_Sales  \n",
       "0          3.77         8.46         82.74  \n",
       "1          6.81         0.77         40.24  \n",
       "2          3.79         3.31         35.82  \n",
       "3          3.28         2.96         33.00  \n",
       "4         10.22         1.00         31.37  \n",
       "...         ...          ...           ...  \n",
       "16186      0.00         0.00          0.01  \n",
       "16187      0.00         0.00          0.01  \n",
       "16188      0.01         0.00          0.01  \n",
       "16189      0.00         0.00          0.01  \n",
       "16597      0.00         0.00          0.01  \n",
       "\n",
       "[16598 rows x 11 columns]"
      ],
      "text/html": "<div>\n<style scoped>\n    .dataframe tbody tr th:only-of-type {\n        vertical-align: middle;\n    }\n\n    .dataframe tbody tr th {\n        vertical-align: top;\n    }\n\n    .dataframe thead th {\n        text-align: right;\n    }\n</style>\n<table border=\"1\" class=\"dataframe\">\n  <thead>\n    <tr style=\"text-align: right;\">\n      <th></th>\n      <th>Rank</th>\n      <th>Name</th>\n      <th>Platform</th>\n      <th>Year</th>\n      <th>Genre</th>\n      <th>Publisher</th>\n      <th>NA_Sales</th>\n      <th>EU_Sales</th>\n      <th>JP_Sales</th>\n      <th>Other_Sales</th>\n      <th>Global_Sales</th>\n    </tr>\n  </thead>\n  <tbody>\n    <tr>\n      <th>0</th>\n      <td>1</td>\n      <td>Wii Sports</td>\n      <td>Wii</td>\n      <td>2006.0</td>\n      <td>Sports</td>\n      <td>Nintendo</td>\n      <td>41.49</td>\n      <td>29.02</td>\n      <td>3.77</td>\n      <td>8.46</td>\n      <td>82.74</td>\n    </tr>\n    <tr>\n      <th>1</th>\n      <td>1</td>\n      <td>Super Mario Bros.</td>\n      <td>NES</td>\n      <td>1985.0</td>\n      <td>Platform</td>\n      <td>Nintendo</td>\n      <td>29.08</td>\n      <td>3.58</td>\n      <td>6.81</td>\n      <td>0.77</td>\n      <td>40.24</td>\n    </tr>\n    <tr>\n      <th>2</th>\n      <td>3</td>\n      <td>Mario Kart Wii</td>\n      <td>Wii</td>\n      <td>2008.0</td>\n      <td>Racing</td>\n      <td>Nintendo</td>\n      <td>15.85</td>\n      <td>12.88</td>\n      <td>3.79</td>\n      <td>3.31</td>\n      <td>35.82</td>\n    </tr>\n    <tr>\n      <th>3</th>\n      <td>4</td>\n      <td>Wii Sports Resort</td>\n      <td>Wii</td>\n      <td>2009.0</td>\n      <td>Sports</td>\n      <td>Nintendo</td>\n      <td>15.75</td>\n      <td>11.01</td>\n      <td>3.28</td>\n      <td>2.96</td>\n      <td>33.00</td>\n    </tr>\n    <tr>\n      <th>4</th>\n      <td>5</td>\n      <td>Pokemon Red/Pokemon Blue</td>\n      <td>GB</td>\n      <td>1996.0</td>\n      <td>Role-Playing</td>\n      <td>Nintendo</td>\n      <td>11.27</td>\n      <td>8.89</td>\n      <td>10.22</td>\n      <td>1.00</td>\n      <td>31.37</td>\n    </tr>\n    <tr>\n      <th>...</th>\n      <td>...</td>\n      <td>...</td>\n      <td>...</td>\n      <td>...</td>\n      <td>...</td>\n      <td>...</td>\n      <td>...</td>\n      <td>...</td>\n      <td>...</td>\n      <td>...</td>\n      <td>...</td>\n    </tr>\n    <tr>\n      <th>16186</th>\n      <td>16189</td>\n      <td>BattleForge</td>\n      <td>PC</td>\n      <td>2009.0</td>\n      <td>Strategy</td>\n      <td>Electronic Arts</td>\n      <td>0.00</td>\n      <td>0.01</td>\n      <td>0.00</td>\n      <td>0.00</td>\n      <td>0.01</td>\n    </tr>\n    <tr>\n      <th>16187</th>\n      <td>16190</td>\n      <td>Jewel Quest II</td>\n      <td>PC</td>\n      <td>2007.0</td>\n      <td>Puzzle</td>\n      <td>Avanquest</td>\n      <td>0.00</td>\n      <td>0.01</td>\n      <td>0.00</td>\n      <td>0.00</td>\n      <td>0.01</td>\n    </tr>\n    <tr>\n      <th>16188</th>\n      <td>16191</td>\n      <td>Toro to Morimori</td>\n      <td>PS3</td>\n      <td>2009.0</td>\n      <td>Misc</td>\n      <td>Sony Computer Entertainment</td>\n      <td>0.00</td>\n      <td>0.00</td>\n      <td>0.01</td>\n      <td>0.00</td>\n      <td>0.01</td>\n    </tr>\n    <tr>\n      <th>16189</th>\n      <td>16192</td>\n      <td>Sonic &amp; All-Stars Racing Transformed</td>\n      <td>PC</td>\n      <td>2013.0</td>\n      <td>Racing</td>\n      <td>Sega</td>\n      <td>0.00</td>\n      <td>0.01</td>\n      <td>0.00</td>\n      <td>0.00</td>\n      <td>0.01</td>\n    </tr>\n    <tr>\n      <th>16597</th>\n      <td>16600</td>\n      <td>Spirits &amp; Spells</td>\n      <td>GBA</td>\n      <td>2003.0</td>\n      <td>Platform</td>\n      <td>Wanadoo</td>\n      <td>0.01</td>\n      <td>0.00</td>\n      <td>0.00</td>\n      <td>0.00</td>\n      <td>0.01</td>\n    </tr>\n  </tbody>\n</table>\n<p>16598 rows × 11 columns</p>\n</div>"
     },
     "metadata": {},
     "execution_count": 12
    }
   ],
   "source": [
    "video_df.sort_values('Global_Sales', ascending=False)"
   ]
  },
  {
   "cell_type": "code",
   "execution_count": 13,
   "metadata": {},
   "outputs": [
    {
     "output_type": "execute_result",
     "data": {
      "text/plain": [
       "        Rank                                               Name Platform  \\\n",
       "10463  10465           Tom Clancy's Splinter Cell: Chaos Theory       GC   \n",
       "3411    3413  Transformers: The Game (XBox 360, PS2, PS3, Wi...      Wii   \n",
       "15940  15943                                         Worms: WMD      PS4   \n",
       "15939  15942                Barbie and Her Sisters Puppy Rescue      PS3   \n",
       "10767  10769                                   MySims SkyHeroes     X360   \n",
       "...      ...                                                ...      ...   \n",
       "4006    4008                               Super Robot Taisen Z      PS2   \n",
       "10311  10313                                      Langrisser IV      SAT   \n",
       "10100  10102                                Stronghold Kingdoms       PC   \n",
       "13794  13796                                        Fritz Chess      PS3   \n",
       "73        74                          Animal Crossing: New Leaf      3DS   \n",
       "\n",
       "         Year     Genre           Publisher  NA_Sales  EU_Sales  JP_Sales  \\\n",
       "10463  2005.0    Action             Ubisoft      0.08      0.02      0.00   \n",
       "3411   2007.0    Action          Activision      0.52      0.03      0.00   \n",
       "15940  2016.0    Action            Sold Out      0.01      0.01      0.00   \n",
       "15939  2015.0    Action  Namco Bandai Games      0.00      0.01      0.00   \n",
       "10767  2010.0    Action     Electronic Arts      0.09      0.00      0.00   \n",
       "...       ...       ...                 ...       ...       ...       ...   \n",
       "4006   2008.0  Strategy  Namco Bandai Games      0.00      0.00      0.50   \n",
       "10311  1997.0  Strategy                 NCS      0.00      0.00      0.11   \n",
       "10100  2011.0  Strategy   DTP Entertainment      0.00      0.10      0.00   \n",
       "13794  2009.0  Strategy         Deep Silver      0.00      0.03      0.00   \n",
       "73     2012.0       NaN            Nintendo      2.01      2.32      4.36   \n",
       "\n",
       "       Other_Sales  Global_Sales  \n",
       "10463         0.00          0.10  \n",
       "3411          0.04          0.59  \n",
       "15940         0.00          0.02  \n",
       "15939         0.00          0.02  \n",
       "10767         0.01          0.10  \n",
       "...            ...           ...  \n",
       "4006          0.00          0.50  \n",
       "10311         0.00          0.11  \n",
       "10100         0.02          0.11  \n",
       "13794         0.01          0.04  \n",
       "73            0.41          9.09  \n",
       "\n",
       "[16598 rows x 11 columns]"
      ],
      "text/html": "<div>\n<style scoped>\n    .dataframe tbody tr th:only-of-type {\n        vertical-align: middle;\n    }\n\n    .dataframe tbody tr th {\n        vertical-align: top;\n    }\n\n    .dataframe thead th {\n        text-align: right;\n    }\n</style>\n<table border=\"1\" class=\"dataframe\">\n  <thead>\n    <tr style=\"text-align: right;\">\n      <th></th>\n      <th>Rank</th>\n      <th>Name</th>\n      <th>Platform</th>\n      <th>Year</th>\n      <th>Genre</th>\n      <th>Publisher</th>\n      <th>NA_Sales</th>\n      <th>EU_Sales</th>\n      <th>JP_Sales</th>\n      <th>Other_Sales</th>\n      <th>Global_Sales</th>\n    </tr>\n  </thead>\n  <tbody>\n    <tr>\n      <th>10463</th>\n      <td>10465</td>\n      <td>Tom Clancy's Splinter Cell: Chaos Theory</td>\n      <td>GC</td>\n      <td>2005.0</td>\n      <td>Action</td>\n      <td>Ubisoft</td>\n      <td>0.08</td>\n      <td>0.02</td>\n      <td>0.00</td>\n      <td>0.00</td>\n      <td>0.10</td>\n    </tr>\n    <tr>\n      <th>3411</th>\n      <td>3413</td>\n      <td>Transformers: The Game (XBox 360, PS2, PS3, Wi...</td>\n      <td>Wii</td>\n      <td>2007.0</td>\n      <td>Action</td>\n      <td>Activision</td>\n      <td>0.52</td>\n      <td>0.03</td>\n      <td>0.00</td>\n      <td>0.04</td>\n      <td>0.59</td>\n    </tr>\n    <tr>\n      <th>15940</th>\n      <td>15943</td>\n      <td>Worms: WMD</td>\n      <td>PS4</td>\n      <td>2016.0</td>\n      <td>Action</td>\n      <td>Sold Out</td>\n      <td>0.01</td>\n      <td>0.01</td>\n      <td>0.00</td>\n      <td>0.00</td>\n      <td>0.02</td>\n    </tr>\n    <tr>\n      <th>15939</th>\n      <td>15942</td>\n      <td>Barbie and Her Sisters Puppy Rescue</td>\n      <td>PS3</td>\n      <td>2015.0</td>\n      <td>Action</td>\n      <td>Namco Bandai Games</td>\n      <td>0.00</td>\n      <td>0.01</td>\n      <td>0.00</td>\n      <td>0.00</td>\n      <td>0.02</td>\n    </tr>\n    <tr>\n      <th>10767</th>\n      <td>10769</td>\n      <td>MySims SkyHeroes</td>\n      <td>X360</td>\n      <td>2010.0</td>\n      <td>Action</td>\n      <td>Electronic Arts</td>\n      <td>0.09</td>\n      <td>0.00</td>\n      <td>0.00</td>\n      <td>0.01</td>\n      <td>0.10</td>\n    </tr>\n    <tr>\n      <th>...</th>\n      <td>...</td>\n      <td>...</td>\n      <td>...</td>\n      <td>...</td>\n      <td>...</td>\n      <td>...</td>\n      <td>...</td>\n      <td>...</td>\n      <td>...</td>\n      <td>...</td>\n      <td>...</td>\n    </tr>\n    <tr>\n      <th>4006</th>\n      <td>4008</td>\n      <td>Super Robot Taisen Z</td>\n      <td>PS2</td>\n      <td>2008.0</td>\n      <td>Strategy</td>\n      <td>Namco Bandai Games</td>\n      <td>0.00</td>\n      <td>0.00</td>\n      <td>0.50</td>\n      <td>0.00</td>\n      <td>0.50</td>\n    </tr>\n    <tr>\n      <th>10311</th>\n      <td>10313</td>\n      <td>Langrisser IV</td>\n      <td>SAT</td>\n      <td>1997.0</td>\n      <td>Strategy</td>\n      <td>NCS</td>\n      <td>0.00</td>\n      <td>0.00</td>\n      <td>0.11</td>\n      <td>0.00</td>\n      <td>0.11</td>\n    </tr>\n    <tr>\n      <th>10100</th>\n      <td>10102</td>\n      <td>Stronghold Kingdoms</td>\n      <td>PC</td>\n      <td>2011.0</td>\n      <td>Strategy</td>\n      <td>DTP Entertainment</td>\n      <td>0.00</td>\n      <td>0.10</td>\n      <td>0.00</td>\n      <td>0.02</td>\n      <td>0.11</td>\n    </tr>\n    <tr>\n      <th>13794</th>\n      <td>13796</td>\n      <td>Fritz Chess</td>\n      <td>PS3</td>\n      <td>2009.0</td>\n      <td>Strategy</td>\n      <td>Deep Silver</td>\n      <td>0.00</td>\n      <td>0.03</td>\n      <td>0.00</td>\n      <td>0.01</td>\n      <td>0.04</td>\n    </tr>\n    <tr>\n      <th>73</th>\n      <td>74</td>\n      <td>Animal Crossing: New Leaf</td>\n      <td>3DS</td>\n      <td>2012.0</td>\n      <td>NaN</td>\n      <td>Nintendo</td>\n      <td>2.01</td>\n      <td>2.32</td>\n      <td>4.36</td>\n      <td>0.41</td>\n      <td>9.09</td>\n    </tr>\n  </tbody>\n</table>\n<p>16598 rows × 11 columns</p>\n</div>"
     },
     "metadata": {},
     "execution_count": 13
    }
   ],
   "source": [
    "# video_df.at[19, 'Rank'] = 20\n",
    "# we want to replace NaN in the Genre Series with a the word \"Game\" and we do not want to modify the original DataFrame\n",
    "\n",
    "# Extract the Genre Series\n",
    "# call the fillna method with the argument \"Game\"\n",
    "# create a new variable and assign to it teh result of fillna\n",
    "\n",
    "new_df = video_df.copy()\n",
    "new_df.sort_values('Genre')\n",
    "new_df['Genre'] = new_df['Genre'].dropna(inplace=True)\n",
    "\n",
    "new_df.sort_values('Genre')\n",
    "# video_df.sort_values('Genre')\n"
   ]
  },
  {
   "cell_type": "code",
   "execution_count": null,
   "metadata": {},
   "outputs": [],
   "source": []
  }
 ]
}